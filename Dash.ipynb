{
 "cells": [
  {
   "cell_type": "code",
   "execution_count": 1,
   "metadata": {},
   "outputs": [],
   "source": [
    "#!pip3 install jupyter_dash\n",
    "#!pip3 install yfinance\n",
    "#!pip install 'numpy==1.17.2'\n",
    "#!pip install 'pandas==0.25.1'\n",
    "\n",
    "import dash\n",
    "import dash_core_components as dcc\n",
    "import dash_html_components as html\n",
    "import pandas as pd\n",
    "import plotly.express as px\n",
    "import plotly.graph_objects as go\n",
    "import datetime\n",
    "import glob\n",
    "import settings\n",
    "\n",
    "\n",
    "\n",
    "from dash.dependencies import Input, Output\n",
    "\n",
    "\n",
    "from jupyter_dash import JupyterDash\n",
    "\n",
    "import yfinance as yf"
   ]
  },
  {
   "cell_type": "code",
   "execution_count": 2,
   "metadata": {},
   "outputs": [
    {
     "name": "stdout",
     "output_type": "stream",
     "text": [
      "Sentiment analysis files available: \n",
      " ['0_sentiments.csv'] \n",
      "\n",
      "0_sentiments.csv is for keyword: #ethereum\n"
     ]
    }
   ],
   "source": [
    "colors = {\n",
    "    'background': '#111111',\n",
    "    'text': '#7FDBFF'\n",
    "}\n",
    "\n",
    "sentiment_filename_dict = {}\n",
    "available_indicators = []\n",
    "\n",
    "# Get all files with pattern 'x_sentiments.csv'\n",
    "sentiment_csv_files = glob.glob('*_sentiments.csv')\n",
    "print('Sentiment analysis files available: \\n', sentiment_csv_files, '\\n')\n",
    "\n",
    "# Check the keyword searched for in each available x_sentiment.csv file and add it to the drop down menu option list\n",
    "# Additionally, create a dictionary with keyword:filename mapping for later\n",
    "for file in sentiment_csv_files:\n",
    "    df = pd.read_csv(file, delimiter=',', nrows=5)\n",
    "    keyword = df.keyword.unique()[0]\n",
    "    print(file + ' is for keyword: ' + keyword)\n",
    "    sentiment_filename_dict[keyword] = file\n",
    "    available_indicators.append(keyword)\n",
    "    \n",
    "# Define the commodity prices that can be looked up\n",
    "stock_price_options = {'#Google': 'GOOGL', \\\n",
    "                       '#Bitcoin': 'BTC-USD', \\\n",
    "                       '#tesla': 'TSLA', \\\n",
    "                       '#ethereum': 'ETH-USD'}"
   ]
  },
  {
   "cell_type": "code",
   "execution_count": 3,
   "metadata": {},
   "outputs": [
    {
     "name": "stdout",
     "output_type": "stream",
     "text": [
      "[*********************100%***********************]  1 of 1 completed\n",
      "[*********************100%***********************]  1 of 1 completed\n",
      "[*********************100%***********************]  1 of 1 completed\n",
      "[*********************100%***********************]  1 of 1 completed\n"
     ]
    }
   ],
   "source": [
    "# get stocks when starting\n",
    "stock_returns = {'GOOGL':pd.DataFrame(yf.download('GOOGL', period=\"5m\", interval=\"1m\" )),\n",
    "                'BTC-USD': pd.DataFrame(yf.download('BTC-USD', period=\"5m\", interval=\"1m\")),\n",
    "                'TSLA': pd.DataFrame(yf.download('TSLA', period=\"5m\", interval=\"1m\")),\n",
    "                'ETH-USD': pd.DataFrame(yf.download('ETH-USD', period=\"5m\", interval=\"1m\"))}\n"
   ]
  },
  {
   "cell_type": "code",
   "execution_count": 4,
   "metadata": {},
   "outputs": [
    {
     "name": "stdout",
     "output_type": "stream",
     "text": [
      "0_sentiments.csv             \u001b[34m__pycache__\u001b[m\u001b[m/\r\n",
      "\u001b[34mArchive\u001b[m\u001b[m/                     controller.py\r\n",
      "ClientGenerator.py           credentials.py\r\n",
      "Dash.ipynb                   requirements_updated.txt\r\n",
      "SendTwitterData_Script.py    \u001b[34msentiment_analysis_pipeline\u001b[m\u001b[m/\r\n",
      "SentimentAnalysis_Script.py  settings.py\r\n",
      "TwitterServer.py\r\n"
     ]
    }
   ],
   "source": [
    "%pwd\n",
    "%ls\n"
   ]
  },
  {
   "cell_type": "code",
   "execution_count": 5,
   "metadata": {},
   "outputs": [],
   "source": [
    "#app = dash.Dash()\n",
    "app = JupyterDash(__name__)"
   ]
  },
  {
   "cell_type": "code",
   "execution_count": 6,
   "metadata": {},
   "outputs": [],
   "source": [
    "app.layout = html.Div([\n",
    "    html.H1(\"Sentiments\", style = {\n",
    "        'textAlign' : 'center',\n",
    "        'color': colors['text']\n",
    "    }),\n",
    "    # choose the twitter tags that should be fed into the sentiment analysis and query the respective stock price.\n",
    "    dcc.Dropdown(\n",
    "        id = \"dropdown\",\n",
    "        options=[ {'label': i, 'value': i} for i in available_indicators]\n",
    "    ),\n",
    "    dcc.Graph(\n",
    "        id='sentiment',\n",
    "    ),\n",
    "    dcc.Interval(\n",
    "            id='interval-component',\n",
    "            interval=5*1000, # in milliseconds\n",
    "            n_intervals=0\n",
    "        ),\n",
    "    html.H1(\"Stockprices\", style = {\n",
    "        'textAlign' : 'center',\n",
    "        'color': colors['text']\n",
    "    }),\n",
    "    dcc.Graph(\n",
    "        id='stock prices'\n",
    "    )\n",
    "    \n",
    "])"
   ]
  },
  {
   "cell_type": "code",
   "execution_count": 7,
   "metadata": {},
   "outputs": [],
   "source": [
    "@app.callback(\n",
    "    Output(component_id='stock prices', component_property='figure'),\n",
    "    Input(component_id='dropdown', component_property='value'),\n",
    "    Input(component_id='interval-component', component_property='n_intervals'))\n",
    "def update_stocks(selected_tag, n_intervals):\n",
    "\n",
    "    # If a tag is selected, grab the price data\n",
    "    if selected_tag:\n",
    "        if selected_tag in stock_price_options.keys():\n",
    "            df = yf.download(stock_price_options[selected_tag], period='5m', interval='1m')            \n",
    "\n",
    "            stock_returns[stock_price_options[selected_tag]] = stock_returns[stock_price_options[selected_tag]].append(df).drop_duplicates()\n",
    "            \n",
    "            fig_stocks = px.line(stock_returns[stock_price_options[selected_tag]], x=stock_returns[stock_price_options[selected_tag]].index.tz_convert(None), y=\"Open\")\n",
    "        else:\n",
    "            fig_stocks = go.Figure()\n",
    "        \n",
    "    # If a tag is not selected, just use a generic placeholder figure\n",
    "    else:\n",
    "        fig_stocks = go.Figure()\n",
    "\n",
    "    fig_stocks.update_layout(\n",
    "        plot_bgcolor=colors['background'],\n",
    "        paper_bgcolor=colors['background'],\n",
    "        font_color=colors['text'],\n",
    "        transition_duration=500)   \n",
    "\n",
    "    return fig_stocks\n",
    "    \n",
    "\n",
    "@app.callback(\n",
    "    Output(component_id='sentiment', component_property='figure'),\n",
    "    Input(component_id='dropdown', component_property='value'),\n",
    "    Input(component_id='interval-component', component_property='n_intervals'))\n",
    "    # more inputs. variable in update_figure(input1, input2...)\n",
    "    #Input('yaxis-column', 'value'),\n",
    "    #Input('xaxis-type', 'value'),\n",
    "    #for multiple outputs: return Out1, out2, ...\n",
    "def update_figure(selected_tag, n_intervals):\n",
    "\n",
    "    # ------- load data all 5 second (see Interval component)--------\n",
    "    if selected_tag:\n",
    "        filename = sentiment_filename_dict[selected_tag]\n",
    "        df_sentiment = pd.read_csv(filename, delimiter=',')\n",
    "        \n",
    "        #parse as datetime\n",
    "        df_sentiment['timestamp'] = pd.to_datetime(df_sentiment['timestamp'], unit = \"s\", utc = True)\n",
    "    \n",
    "        #change the dataframe to long format\n",
    "        df_sentiment = df_sentiment.melt(id_vars = [\"keyword\",\"timestamp\"],  \\\n",
    "                                         value_vars=[\"positive\", \"neutral\", \"negative\"], \\\n",
    "                                         value_name = \"count\", \\\n",
    "                                         var_name = \"sentiment\")\n",
    "\n",
    "        # ------------plot graph -----\n",
    "        fig_sentiment = px.line(df_sentiment, x=\"timestamp\", y=\"count\", color=\"sentiment\")\n",
    "\n",
    "        fig_sentiment.update_layout(\n",
    "            plot_bgcolor=colors['background'],\n",
    "            paper_bgcolor=colors['background'],\n",
    "            font_color=colors['text'],\n",
    "            transition_duration=500)\n",
    "        \n",
    "    # If a tag is not selected, just use a generic placeholder figure\n",
    "    else:\n",
    "        fig_sentiment = go.Figure()\n",
    "    return fig_sentiment\n"
   ]
  },
  {
   "cell_type": "code",
   "execution_count": 8,
   "metadata": {
    "scrolled": true
   },
   "outputs": [
    {
     "name": "stdout",
     "output_type": "stream",
     "text": [
      "Dash app running on http://127.0.0.1:4060/\n"
     ]
    }
   ],
   "source": [
    "if __name__ == '__main__':\n",
    "    app.run_server(port = 4060)\n",
    "    #,mode=\"inline\", \n",
    "    #pd.read_json(\"path...\")"
   ]
  },
  {
   "cell_type": "code",
   "execution_count": null,
   "metadata": {},
   "outputs": [],
   "source": []
  }
 ],
 "metadata": {
  "kernelspec": {
   "display_name": "Python 3",
   "language": "python",
   "name": "python3"
  },
  "language_info": {
   "codemirror_mode": {
    "name": "ipython",
    "version": 3
   },
   "file_extension": ".py",
   "mimetype": "text/x-python",
   "name": "python",
   "nbconvert_exporter": "python",
   "pygments_lexer": "ipython3",
   "version": "3.7.4"
  }
 },
 "nbformat": 4,
 "nbformat_minor": 5
}
